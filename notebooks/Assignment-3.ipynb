{
 "cells": [
  {
   "cell_type": "markdown",
   "metadata": {},
   "source": [
    "# Task: CIFAR10 Great Race\n"
   ]
  },
  {
   "cell_type": "markdown",
   "metadata": {
    "collapsed": true
   },
   "source": [
    "Following Results and Box plot is produced by comparing CIFAR10 data sets with different algorithms\n",
    "\n",
    "n-folds = 5 and sample size = 1000 (0.02 of entire dataset)\n",
    "\n",
    "LR: 0.240000 (0.033166)\n",
    "\n",
    "LDA: 0.164000 (0.028178)\n",
    "\n",
    "KNN: 0.243000 (0.014697)\n",
    "\n",
    "CART: 0.195000 (0.016125)\n",
    "\n",
    "NB: 0.303000 (0.025807)\n",
    "\n",
    "SVM: 0.064000 (0.006633)"
   ]
  },
  {
   "cell_type": "markdown",
   "metadata": {},
   "source": [
    "<img src=\"Task1_KFolds.png\">"
   ]
  },
  {
   "cell_type": "markdown",
   "metadata": {},
   "source": [
    "With the above result Naive Bayes (NB) seems to be most appropriate for the CIFAR data set"
   ]
  },
  {
   "cell_type": "markdown",
   "metadata": {},
   "source": [
    "# Task: Text Classifier"
   ]
  },
  {
   "cell_type": "code",
   "execution_count": null,
   "metadata": {
    "collapsed": true
   },
   "outputs": [],
   "source": []
  },
  {
   "cell_type": "markdown",
   "metadata": {},
   "source": [
    "Best score: 0.917\n",
    "Best parameters set:\n",
    "\tclf__alpha: 1e-06\n",
    "\tclf__loss: 'log'\n",
    "\tclf__penalty: 'l2'\n",
    "\ttfidf__norm: 'l2'\n",
    "\ttfidf__use_idf: True\n",
    "\tvect__max_features: None\n",
    "\tvect__ngram_range: (1, 2)"
   ]
  }
 ],
 "metadata": {
  "kernelspec": {
   "display_name": "Python 3",
   "language": "python",
   "name": "python3"
  },
  "language_info": {
   "codemirror_mode": {
    "name": "ipython",
    "version": 3
   },
   "file_extension": ".py",
   "mimetype": "text/x-python",
   "name": "python",
   "nbconvert_exporter": "python",
   "pygments_lexer": "ipython3",
   "version": "3.6.0"
  }
 },
 "nbformat": 4,
 "nbformat_minor": 2
}
